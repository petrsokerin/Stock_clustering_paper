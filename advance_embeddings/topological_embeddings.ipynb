{
 "cells": [
  {
   "cell_type": "code",
   "execution_count": 1,
   "metadata": {},
   "outputs": [],
   "source": [
    "#!pip install giotto-tda"
   ]
  },
  {
   "cell_type": "code",
   "execution_count": 2,
   "metadata": {},
   "outputs": [],
   "source": [
    "import warnings\n",
    "warnings.filterwarnings(\"ignore\")\n",
    "\n",
    "import pandas as pd\n",
    "import numpy as np\n",
    "import os\n",
    "import json\n",
    "from tqdm import tqdm\n",
    "\n",
    "import sklearn\n",
    "\n",
    "from datetime import datetime\n",
    "from datetime import timedelta\n",
    "\n",
    "from gtda.homology import VietorisRipsPersistence\n",
    "from gtda.time_series import SingleTakensEmbedding\n",
    "from gtda.diagrams import PersistenceLandscape, PersistenceImage, BettiCurve"
   ]
  },
  {
   "cell_type": "code",
   "execution_count": 3,
   "metadata": {},
   "outputs": [],
   "source": [
    "with open('config/config.json', 'r') as file:\n",
    "    config = json.load(file)\n",
    "    \n",
    "rs = config['random_state']"
   ]
  },
  {
   "cell_type": "markdown",
   "metadata": {},
   "source": [
    "# data loading"
   ]
  },
  {
   "cell_type": "code",
   "execution_count": 4,
   "metadata": {},
   "outputs": [],
   "source": [
    "df = pd.read_csv('../'+config['ticker_data_preprocessed'], index_col=0)\n",
    "#!pip install giotto-tda\n",
    "data_temp = df.drop(['sector'], axis=1).T\n",
    "data_temp = data_temp[data_temp.index < '2021-01-01']\n",
    "data = data_temp.T.values"
   ]
  },
  {
   "cell_type": "markdown",
   "metadata": {},
   "source": [
    "## TDA"
   ]
  },
  {
   "cell_type": "code",
   "execution_count": 5,
   "metadata": {},
   "outputs": [],
   "source": [
    "data_temp = df.drop(['sector'], axis=1).T\n",
    "data_temp = data_temp[data_temp.index < '2021-01-01']\n",
    "data = data_temp.T.values"
   ]
  },
  {
   "cell_type": "code",
   "execution_count": 6,
   "metadata": {},
   "outputs": [],
   "source": [
    "def plot_diag(persistence):\n",
    "    persistence = persistence.squeeze()\n",
    "    lim = persistence[:, :2].max() + 0.01\n",
    "    for dim in np.unique(persistence[:, -1]):\n",
    "        data_dim = persistence[persistence[:, -1] == dim][:,:2]\n",
    "        plt.scatter(x = data_dim[:, 0], y = data_dim[:, 1], label = f'Dim {int(dim)}')\n",
    "    plt.xlim(left = -0.01, right = lim)\n",
    "    plt.ylim(-0.01, lim)\n",
    "    plt.plot([0, 1], [0, 1], linestyle = '--')\n",
    "    plt.legend()"
   ]
  },
  {
   "cell_type": "code",
   "execution_count": 7,
   "metadata": {},
   "outputs": [],
   "source": [
    "def fit_optimal_emb(data):\n",
    "    params_list = []\n",
    "    for i in tqdm(range(data.shape[0])):\n",
    "        max_embedding_dimension = 10\n",
    "        max_time_delay = 30\n",
    "        stride = 5\n",
    "\n",
    "        embedder = SingleTakensEmbedding(\n",
    "            parameters_type=\"search\",\n",
    "            time_delay=max_time_delay,\n",
    "            dimension=max_embedding_dimension,\n",
    "            stride=stride,\n",
    "        )\n",
    "\n",
    "        y = data[i]\n",
    "        embedder.fit(y)\n",
    "        params_list.append([embedder.dimension_, embedder.time_delay_])\n",
    "\n",
    "    mean_dim = int(np.array(params_list)[:, 0].mean())\n",
    "    mean_time_delay = int(np.array(params_list)[:, 1].mean())\n",
    "    return mean_dim, mean_time_delay"
   ]
  },
  {
   "cell_type": "code",
   "execution_count": 8,
   "metadata": {},
   "outputs": [
    {
     "name": "stderr",
     "output_type": "stream",
     "text": [
      "100%|██████████| 482/482 [00:18<00:00, 26.30it/s]\n",
      "100%|██████████| 482/482 [01:05<00:00,  7.36it/s]\n",
      "100%|██████████| 482/482 [01:25<00:00,  5.61it/s]\n"
     ]
    }
   ],
   "source": [
    "diags_one_param_set = []\n",
    "diags_fitted_param_set = []\n",
    "\n",
    "for one_param_set in [True, False]:\n",
    "    if one_param_set:\n",
    "        mean_dimension, mean_time_delay = fit_optimal_emb(data)\n",
    "\n",
    "    for i in tqdm(range(data.shape[0])):\n",
    "        y = data[i]\n",
    "\n",
    "        stride = 5\n",
    "        if one_param_set:\n",
    "            dimension, time_delay = mean_dimension, mean_time_delay\n",
    "            p_type = 'fixed'\n",
    "        else:\n",
    "            dimension = 10\n",
    "            time_delay = 30\n",
    "            p_type = 'search'\n",
    "\n",
    "        embedder = SingleTakensEmbedding(parameters_type=p_type, time_delay=time_delay,\n",
    "                dimension=dimension, stride=stride)\n",
    "        y_embedded = embedder.fit_transform(y)[None, :, :]\n",
    "        homology_dimensions = [0, 1, 2]\n",
    "\n",
    "        persistence = VietorisRipsPersistence(homology_dimensions=homology_dimensions)\n",
    "        diag = persistence.fit_transform(y_embedded)\n",
    "        \n",
    "        if one_param_set:\n",
    "            diags_one_param_set.append(diag)\n",
    "        else:\n",
    "            diags_fitted_param_set.append(diag)"
   ]
  },
  {
   "cell_type": "code",
   "execution_count": 9,
   "metadata": {},
   "outputs": [],
   "source": [
    "def format_to_csv(embeddings_list, folder_name):\n",
    "    embeddings = np.array(embeddings_list)\n",
    "    formatted_embeddings = pd.DataFrame(embeddings, index = df.index)\n",
    "    formatted_embeddings.to_csv(folder_name)"
   ]
  },
  {
   "cell_type": "code",
   "execution_count": 10,
   "metadata": {},
   "outputs": [],
   "source": [
    "for data, name in [(diags_one_param_set, \"takens_one\"), (diags_fitted_param_set, \"takens_mult\")]:\n",
    "    \n",
    "    persistence_landscape = PersistenceLandscape()\n",
    "    for dim in [1,2]:\n",
    "        embeddings_list = []\n",
    "        for i in range(len(data)):\n",
    "            pl = persistence_landscape.fit_transform(data[i])[0, dim]\n",
    "            embeddings_list.append(pl)\n",
    "        folder_name = f\"../results/{name}_PL_{dim}.csv\"\n",
    "        format_to_csv(embeddings_list, folder_name)\n",
    "        \n",
    "    sigma = 0.0005\n",
    "    persistence_image = PersistenceImage(sigma=sigma, n_bins=10)\n",
    "    for dim in [1,2]:\n",
    "        embeddings_list = []\n",
    "        for i in range(len(data)):\n",
    "            pi = persistence_image.fit_transform(data[i])[0, dim].reshape(100)\n",
    "            embeddings_list.append(pi)\n",
    "        folder_name = f\"results/{name}_PI_{dim}.csv\"\n",
    "        format_to_csv(embeddings_list, folder_name)\n",
    "        \n",
    "    persistence_image = PersistenceImage(sigma=sigma, n_bins=100)\n",
    "    for dim in [0]:\n",
    "        embeddings_list = []\n",
    "        for i in range(len(data)):\n",
    "            pi = persistence_image.fit_transform(data[i])[0, dim, :, 0]\n",
    "            embeddings_list.append(pi)\n",
    "        folder_name = f\"../results/{name}_PI_{dim}_sigma={sigma}.csv\"\n",
    "        format_to_csv(embeddings_list, folder_name)\n",
    "    \n",
    "    betti_curve = BettiCurve(n_bins=100)\n",
    "    for dim in [0,1,2]:\n",
    "        embeddings_list = []\n",
    "        for i in range(len(data)):\n",
    "            bc = betti_curve.fit_transform(data[i])[0, dim]\n",
    "            embeddings_list.append(bc)\n",
    "        folder_name = f\"../results/{name}_BC_{dim}.csv\"\n",
    "        format_to_csv(embeddings_list, folder_name)\n",
    "        "
   ]
  }
 ],
 "metadata": {
  "kernelspec": {
   "display_name": "Python 3",
   "language": "python",
   "name": "python3"
  },
  "language_info": {
   "codemirror_mode": {
    "name": "ipython",
    "version": 3
   },
   "file_extension": ".py",
   "mimetype": "text/x-python",
   "name": "python",
   "nbconvert_exporter": "python",
   "pygments_lexer": "ipython3",
   "version": "3.8.5"
  }
 },
 "nbformat": 4,
 "nbformat_minor": 5
}
